{
  "nbformat": 4,
  "nbformat_minor": 0,
  "metadata": {
    "colab": {
      "provenance": [],
      "authorship_tag": "ABX9TyOv8K8KCDaqsSMJMS+nODb0",
      "include_colab_link": true
    },
    "kernelspec": {
      "name": "python3",
      "display_name": "Python 3"
    },
    "language_info": {
      "name": "python"
    }
  },
  "cells": [
    {
      "cell_type": "markdown",
      "metadata": {
        "id": "view-in-github",
        "colab_type": "text"
      },
      "source": [
        "<a href=\"https://colab.research.google.com/github/ArunK-ML/Chi-Square-Test-in-Hypothesis-Testing_Numpy/blob/main/Chi_Square_Test_Seminar.ipynb\" target=\"_parent\"><img src=\"https://colab.research.google.com/assets/colab-badge.svg\" alt=\"Open In Colab\"/></a>"
      ]
    },
    {
      "cell_type": "markdown",
      "source": [
        "# **Hypothesis testing**"
      ],
      "metadata": {
        "id": "qEz-np2ylFsc"
      }
    },
    {
      "cell_type": "markdown",
      "source": [
        "**Hypothesis testing** is a method in statistics used to make decisions or inferences about a population based on a sample of data. It helps you determine whether there is enough evidence in your sample to support a particular belief or claim (called a hypothesis) about a population parameter (like a mean or proportion).\n",
        "\n"
      ],
      "metadata": {
        "id": "Ejzgpj4vkz00"
      }
    },
    {
      "cell_type": "markdown",
      "source": [
        "# **Chi-Square Test in Hypothesis Testing**"
      ],
      "metadata": {
        "id": "tttYCU6Flb99"
      }
    },
    {
      "cell_type": "markdown",
      "source": [
        "The Chi-Square (χ²) test is used to test whether there is a significant difference between the observed and expected frequencies in one or more categories.\n",
        "\n",
        "There are two main types of chi-square tests in hypothesis testing:\n",
        "\n",
        "**1. Chi-Square Goodness of Fit Test.**\n",
        "\n",
        "**2. Chi-Square Test of Independence**"
      ],
      "metadata": {
        "id": "QyIJyGbwljk9"
      }
    },
    {
      "cell_type": "markdown",
      "source": [],
      "metadata": {
        "id": "grTkCIVSnMIM"
      }
    },
    {
      "cell_type": "markdown",
      "source": [],
      "metadata": {
        "id": "xhgJUJOenMc0"
      }
    },
    {
      "cell_type": "markdown",
      "source": [
        "🔹**2. Chi-Square Test of Independence**\n",
        "\n",
        "**Use case:**\n",
        "Check if two categorical variables are independent.\n",
        "\n",
        "\n",
        "![t1.png](data:image/png;base64,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)\n",
        "\n"
      ],
      "metadata": {
        "id": "4jIQlQK9l1W0"
      }
    },
    {
      "cell_type": "code",
      "source": [
        "import numpy as np\n",
        "from scipy.stats import chi2_contingency\n",
        "\n",
        "# Observed data: Gender vs Preference\n",
        "\n",
        "data = np.array([[30, 10],   # Male: Tea, Coffee\n",
        "                 [20, 40]])  # Female: Tea, Coffee\n",
        "\n",
        "# Perform Chi-Square Test\n",
        "\n",
        "chi2, p, dof, expected = chi2_contingency(data)\n",
        "\n",
        "# Print all results\n",
        "\n",
        "print(\"Observed Table:\\n\", data)\n",
        "print(\"Expected Table (if variables were independent):\\n\", expected)\n",
        "print(\"Chi-Square Statistic:\", chi2)\n",
        "print(\"Degrees of Freedom:\", dof)\n",
        "print(\"p-value:\", p)\n",
        "\n",
        "# Hypothesis testing decision\n",
        "\n",
        "alpha = 0.05\n",
        "if p < alpha:\n",
        "    print(\"🔴 Reject Null Hypothesis: Gender and Preference are dependent.\")\n",
        "else:\n",
        "    print(\"🟢 Fail to Reject Null: Gender and Preference are independent.\")"
      ],
      "metadata": {
        "colab": {
          "base_uri": "https://localhost:8080/"
        },
        "id": "0J3SL7kjnera",
        "outputId": "ac8bc1e9-69fc-40b2-97ea-1c925bc822df"
      },
      "execution_count": 1,
      "outputs": [
        {
          "output_type": "stream",
          "name": "stdout",
          "text": [
            "Observed Table:\n",
            " [[30 10]\n",
            " [20 40]]\n",
            "Expected Table (if variables were independent):\n",
            " [[20. 20.]\n",
            " [30. 30.]]\n",
            "Chi-Square Statistic: 15.041666666666666\n",
            "Degrees of Freedom: 1\n",
            "p-value: 0.00010516355403363098\n",
            "🔴 Reject Null Hypothesis: Gender and Preference are dependent.\n"
          ]
        }
      ]
    },
    {
      "cell_type": "markdown",
      "source": [],
      "metadata": {
        "id": "EaJornzmnGtW"
      }
    }
  ]
}